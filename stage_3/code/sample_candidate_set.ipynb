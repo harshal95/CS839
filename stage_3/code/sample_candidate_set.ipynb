{
 "cells": [
  {
   "cell_type": "code",
   "execution_count": 28,
   "metadata": {},
   "outputs": [
    {
     "name": "stdout",
     "output_type": "stream",
     "text": [
      "72165\n",
      "50\n",
      "len final 50\n"
     ]
    }
   ],
   "source": [
    "import pandas as pd\n",
    "import random\n",
    "d= pd.read_csv(\"candidate_sets.csv\")\n",
    "print (len(d))\n",
    "sample_candidate_set = d.sample(n=50)\n",
    "print (len(sample_candidate_set))\n",
    "ltable_ids = []\n",
    "rtable_ids = []\n",
    "for index, row in sample_candidate_set.iterrows():\n",
    "    ltable_ids.append(row['A_id'])\n",
    "    rtable_ids.append(row['B_id'])\n",
    "    \n",
    "tableA= pd.read_csv(\"tableA.csv\")\n",
    "tableB = pd.read_csv(\"tableB.csv\")\n",
    "\n",
    "m_table = {}\n",
    "all_pairs= []\n",
    "\n",
    "for index, row in sample_candidate_set.iterrows():\n",
    "    m_table = {}\n",
    "    left = tableA.loc[tableA['_id'] == row['A_id']]\n",
    "    right = tableB.loc[tableB['_id'] == row['B_id']]\n",
    "\n",
    "    for col in left:\n",
    "            if  left.iloc[0][col]:\n",
    "                m_table['ltable.'+col] = left.iloc[0][col]\n",
    "            else:\n",
    "                 m_table['ltable.'+col] = \"\"\n",
    "    for col in right:\n",
    "        if  right.iloc[0][col]:\n",
    "            m_table['rtable.'+col] = right.iloc[0][col]\n",
    "        else:\n",
    "             m_table['rtable.'+col] = \"\"\n",
    "    all_pairs.append(m_table)\n",
    "#print (all_pairs)\n",
    "output_res = pd.DataFrame(all_pairs)\n",
    "iter = 1\n",
    "output_file_name = \"sample_pair\"+\"_iter_\"+str(iter)+\".csv\"\n",
    "output_res.to_csv(output_file_name, encoding='utf-8')\n",
    "print (\"len final\",len(output_res.index))\n",
    "\n",
    "\n",
    "\n"
   ]
  },
  {
   "cell_type": "code",
   "execution_count": null,
   "metadata": {},
   "outputs": [],
   "source": []
  }
 ],
 "metadata": {
  "kernelspec": {
   "display_name": "Python 3",
   "language": "python",
   "name": "python3"
  },
  "language_info": {
   "codemirror_mode": {
    "name": "ipython",
    "version": 3
   },
   "file_extension": ".py",
   "mimetype": "text/x-python",
   "name": "python",
   "nbconvert_exporter": "python",
   "pygments_lexer": "ipython3",
   "version": "3.6.5"
  }
 },
 "nbformat": 4,
 "nbformat_minor": 2
}
